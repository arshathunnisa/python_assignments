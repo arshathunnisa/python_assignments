{
 "cells": [
  {
   "cell_type": "code",
   "execution_count": 11,
   "id": "6b1876ed",
   "metadata": {},
   "outputs": [],
   "source": [
    "name1=\"rafeequnnisa\"\n",
    "name2=\"rahethunnisa\"\n",
    "name3=\"sahithya\"\n",
    "name4=\"eshwari\"\n",
    "name5=\"chandrika\"\n",
    "name6=\"samrin\"\n",
    "name7=\"anju\"\n",
    "name8=\"devi\"\n",
    "name9=\"durga\"\n",
    "name10=\"sumathi\"\n"
   ]
  },
  {
   "cell_type": "code",
   "execution_count": 12,
   "id": "5382b4f5",
   "metadata": {},
   "outputs": [
    {
     "name": "stdout",
     "output_type": "stream",
     "text": [
      "rafeequnnisa\n",
      "rahethunnisa\n",
      "sahithya\n",
      "eshwari\n",
      "chandrika\n",
      "samrin\n",
      "anju\n",
      "devi\n",
      "durga\n",
      "sumathi\n"
     ]
    }
   ],
   "source": [
    "print(name1)\n",
    "print(name2)\n",
    "print(name3)\n",
    "print(name4)\n",
    "print(name5)\n",
    "print(name6)\n",
    "print(name7)\n",
    "print(name8)\n",
    "print(name9)\n",
    "print(name10)\n",
    "     \n",
    "     "
   ]
  },
  {
   "cell_type": "code",
   "execution_count": 16,
   "id": "3d3711ee",
   "metadata": {},
   "outputs": [],
   "source": [
    "father=\"khajamoheddin\"\n",
    "mother=\"karimunnisa\"\n",
    "sister=\"amreen\"\n",
    "broinlaw=\"zakir\"\n",
    "sisterinlaw=\"faizia\"\n",
    "brotherinlaw=\"kamal\"\n",
    "aunt=\"parveen\"\n",
    "auncle=\"siddiq\"\n",
    "grandfather=\"saheb\"\n",
    "grandmother=\"ameenakhatun\""
   ]
  },
  {
   "cell_type": "code",
   "execution_count": 17,
   "id": "d31b7058",
   "metadata": {},
   "outputs": [
    {
     "name": "stdout",
     "output_type": "stream",
     "text": [
      "khajamoheddin\n",
      "karimunnisa\n",
      "amreen\n",
      "zakir\n",
      "faizia\n",
      "kamal\n",
      "parveen\n",
      "siddiq\n",
      "saheb\n",
      "ameenakhatun\n"
     ]
    }
   ],
   "source": [
    "print(father)\n",
    "print(mother)\n",
    "print(sister)\n",
    "print(broinlaw)\n",
    "print(sisterinlaw)\n",
    "print(brotherinlaw)\n",
    "print(aunt)\n",
    "print(auncle)\n",
    "print(grandfather)\n",
    "print(grandmother)"
   ]
  },
  {
   "cell_type": "code",
   "execution_count": 18,
   "id": "429e689e",
   "metadata": {},
   "outputs": [],
   "source": [
    "food1=\"chicken\"\n",
    "food2=\"mutton\"\n",
    "food3=\"fish\"\n",
    "food4=\"egg\"\n",
    "food5=\"france\"\n",
    "food6=\"crab\"\n",
    "food7=\"noodles\"\n",
    "food8=\"samosa\"\n",
    "food9=\"munchooria\"\n",
    "food10=\"dosa\""
   ]
  },
  {
   "cell_type": "code",
   "execution_count": 19,
   "id": "1d8dc2b0",
   "metadata": {},
   "outputs": [
    {
     "name": "stdout",
     "output_type": "stream",
     "text": [
      "chicken\n",
      "mutton\n",
      "fish\n",
      "egg\n",
      "france\n",
      "crab\n",
      "noodles\n",
      "samosa\n",
      "munchooria\n",
      "dosa\n"
     ]
    }
   ],
   "source": [
    "print(food1)\n",
    "print(food2)\n",
    "print(food3)\n",
    "print(food4)\n",
    "print(food5)\n",
    "print(food6)\n",
    "print(food7)\n",
    "print(food8)\n",
    "print(food9)\n",
    "print(food10)"
   ]
  },
  {
   "cell_type": "code",
   "execution_count": 21,
   "id": "1227b1e8",
   "metadata": {},
   "outputs": [
    {
     "name": "stdout",
     "output_type": "stream",
     "text": [
      "pink\n",
      "red\n",
      "blue\n",
      "black\n",
      "brown\n",
      "yellow\n",
      "violet\n",
      "skyblue\n",
      "white\n",
      "green\n",
      "\n"
     ]
    }
   ],
   "source": [
    "colournames=\"pink\\nred\\nblue\\nblack\\nbrown\\nyellow\\nviolet\\nskyblue\\nwhite\\ngreen\\n\"\n",
    "print(colournames)"
   ]
  },
  {
   "cell_type": "code",
   "execution_count": 22,
   "id": "0d1ec2dd",
   "metadata": {},
   "outputs": [
    {
     "name": "stdout",
     "output_type": "stream",
     "text": [
      "january\n",
      "february\n",
      "march\n",
      "april\n",
      "may\n",
      "june\n",
      "july\n",
      "august\n",
      "september\n",
      "october\n",
      " november\n",
      "december\n",
      "\n"
     ]
    }
   ],
   "source": [
    "monthnames=\"january\\nfebruary\\nmarch\\napril\\nmay\\njune\\njuly\\naugust\\nseptember\\noctober\\n november\\ndecember\\n\"\n",
    "print(monthnames)"
   ]
  },
  {
   "cell_type": "code",
   "execution_count": 23,
   "id": "9976e96c",
   "metadata": {},
   "outputs": [
    {
     "name": "stdout",
     "output_type": "stream",
     "text": [
      "hockey\n",
      "football\n",
      "wallyball\n",
      "shuttle\n",
      "coco\n",
      "tennicoit\n",
      "skipping\n",
      "kabbadi\n",
      "chess\n",
      "carromboard\n",
      "\n"
     ]
    }
   ],
   "source": [
    "gamenames=\"hockey\\nfootball\\nwallyball\\nshuttle\\ncoco\\ntennicoit\\nskipping\\nkabbadi\\nchess\\ncarromboard\\n\"\n",
    "print(gamenames)"
   ]
  },
  {
   "cell_type": "code",
   "execution_count": 24,
   "id": "ccd05014",
   "metadata": {},
   "outputs": [
    {
     "name": "stdout",
     "output_type": "stream",
     "text": [
      "hyderabad\n",
      "mumbai\n",
      "chennai\n",
      "vijayawada\n",
      "guntur\n",
      "machilipatnam\n",
      "karnataka\n",
      "america\n",
      "delhi\n",
      "agra\n",
      "\n"
     ]
    }
   ],
   "source": [
    "citynames=\"hyderabad\\nmumbai\\nchennai\\nvijayawada\\nguntur\\nmachilipatnam\\nkarnataka\\namerica\\ndelhi\\nagra\\n\"\n",
    "print(citynames)"
   ]
  },
  {
   "cell_type": "code",
   "execution_count": 4,
   "id": "8d628b30",
   "metadata": {},
   "outputs": [],
   "source": [
    "list1=[1,2,3,4,5,6,7,8,9,10]\n",
    "friendnames=[\"rafee\",\"arshath\",\"anju\",\"sahithya\",\"eshwari\",\"sumathi\",\"chandrika\",\"sunny\",\"aalia\",\"faizia\"]"
   ]
  },
  {
   "cell_type": "code",
   "execution_count": 5,
   "id": "26fc0fdb",
   "metadata": {},
   "outputs": [
    {
     "name": "stdout",
     "output_type": "stream",
     "text": [
      "[1, 2, 3, 4, 5, 6, 7, 8, 9, 10]\n",
      "['rafee', 'arshath', 'anju', 'sahithya', 'eshwari', 'sumathi', 'chandrika', 'sunny', 'aalia', 'faizia']\n"
     ]
    }
   ],
   "source": [
    "print(list1)\n",
    "print(friendnames)"
   ]
  },
  {
   "cell_type": "code",
   "execution_count": 7,
   "id": "e5e3f264",
   "metadata": {},
   "outputs": [],
   "source": [
    "tuple1=(1,2,3,4,5,6,7,8,9,10)\n",
    "familynames=(\"khaja\",\"karima\",\"amreen\",\"kammal\",\"farha\",\"ayan\",\"ammenakhathun\",\"saheeb\",\"rafee\",\"sunny\")"
   ]
  },
  {
   "cell_type": "code",
   "execution_count": 8,
   "id": "af4c0f51",
   "metadata": {},
   "outputs": [
    {
     "name": "stdout",
     "output_type": "stream",
     "text": [
      "(1, 2, 3, 4, 5, 6, 7, 8, 9, 10)\n",
      "('khaja', 'karima', 'amreen', 'kammal', 'farha', 'ayan', 'ammenakhathun', 'saheeb', 'rafee', 'sunny')\n"
     ]
    }
   ],
   "source": [
    "print(tuple1)\n",
    "print(familynames)"
   ]
  },
  {
   "cell_type": "code",
   "execution_count": 9,
   "id": "d60317c3",
   "metadata": {},
   "outputs": [],
   "source": [
    "set1={1,2,3,4,5,6,7,8,9,10}\n",
    "colournames={\"pink\",\"blue\",\"green\",\"white\",\"yellow\",\"red\",\"violet\",\"skyblue\",\"brown\",\"blank\"}"
   ]
  },
  {
   "cell_type": "code",
   "execution_count": 10,
   "id": "56185ce5",
   "metadata": {},
   "outputs": [
    {
     "name": "stdout",
     "output_type": "stream",
     "text": [
      "{1, 2, 3, 4, 5, 6, 7, 8, 9, 10}\n",
      "{'green', 'yellow', 'white', 'red', 'skyblue', 'brown', 'blue', 'violet', 'blank', 'pink'}\n"
     ]
    }
   ],
   "source": [
    "print(set1)\n",
    "print(colournames)"
   ]
  },
  {
   "cell_type": "code",
   "execution_count": 13,
   "id": "0132ee68",
   "metadata": {},
   "outputs": [
    {
     "name": "stdout",
     "output_type": "stream",
     "text": [
      "{1, 2, 3, 4, 5, 6, 7, 8, 9, 10}\n"
     ]
    }
   ],
   "source": [
    "month_names=[1,9,10,5,3,2,7,8,6,4]\n",
    "month_names1=set(month_names)\n",
    "print(month_names1)"
   ]
  },
  {
   "cell_type": "code",
   "execution_count": 25,
   "id": "2e042364",
   "metadata": {},
   "outputs": [
    {
     "data": {
      "text/plain": [
       "['chiranjeevi',\n",
       " 'balakrishna',\n",
       " 'nagarjuna',\n",
       " 'venky',\n",
       " 'pawan kalyan',\n",
       " 'maheshbabu',\n",
       " 'NT rama rao',\n",
       " 'ramcharan']"
      ]
     },
     "execution_count": 25,
     "metadata": {},
     "output_type": "execute_result"
    }
   ],
   "source": [
    "tollywood_heros=[\"chiru\", \"balaya\", \"nag\",\"venky\",\"powerstar\",\"superstar\",\"ntr\",\"ramcharan\"]\n",
    "tollywood_heros[0]=\"chiranjeevi\"\n",
    "tollywood_heros\n",
    "\n",
    "tollywood_heros[1]=\"balakrishna\"\n",
    "tollywood_heros\n",
    "\n",
    "tollywood_heros[2]=\"nagarjuna\"\n",
    "tollywood_heros\n",
    "\n",
    "tollywood_heros[3]=\"venky\"\n",
    "tollywood_heros\n",
    "\n",
    "tollywood_heros[4]=\"pawan kalyan\"\n",
    "tollywood_heros\n",
    "\n",
    "tollywood_heros[5]=\"maheshbabu\"\n",
    "tollywood_heros\n",
    "\n",
    "tollywood_heros[6]=\"NT rama rao\"\n",
    "tollywood_heros\n",
    "\n",
    "tollywood_heros[7]=\"ramcharan\"\n",
    "tollywood_heros\n"
   ]
  },
  {
   "cell_type": "code",
   "execution_count": 37,
   "id": "6e44079f",
   "metadata": {},
   "outputs": [
    {
     "data": {
      "text/plain": [
       "{'Akshay Kumar',\n",
       " 'Amitabh Bachchan',\n",
       " 'HrithikRoshan',\n",
       " 'amirkhan',\n",
       " 'salmankhan',\n",
       " 'sharukkhan'}"
      ]
     },
     "execution_count": 37,
     "metadata": {},
     "output_type": "execute_result"
    }
   ],
   "source": [
    "bollywood_heros=[\"sharukkhan\", \"salmankhan\", \"salmankhan\",\"amirkhan\",\"HrithikRoshan\",\"Amitabh Bachchan\",\"Akshay Kumar\",\"amirkhan\"]\n",
    "bollywood_heros1=set(bollywood_heros)\n",
    "bollywood_heros1\n"
   ]
  },
  {
   "cell_type": "code",
   "execution_count": 42,
   "id": "da2fd2ca",
   "metadata": {},
   "outputs": [
    {
     "data": {
      "text/plain": [
       "'mysoor baji'"
      ]
     },
     "execution_count": 42,
     "metadata": {},
     "output_type": "execute_result"
    }
   ],
   "source": [
    "breakfast_items=[\"upma\",\"dosa\",\"idly\",\"puri\",\"punugulu\",\"roti\",\"chapathi\", \"parota\",\"mysoor baji\",\"minapa baji\"]\n",
    "breakfast_items[8]\n"
   ]
  },
  {
   "cell_type": "code",
   "execution_count": null,
   "id": "8b5b85ce",
   "metadata": {},
   "outputs": [],
   "source": []
  },
  {
   "cell_type": "code",
   "execution_count": null,
   "id": "13e6610a",
   "metadata": {},
   "outputs": [],
   "source": []
  }
 ],
 "metadata": {
  "kernelspec": {
   "display_name": "Python 3 (ipykernel)",
   "language": "python",
   "name": "python3"
  },
  "language_info": {
   "codemirror_mode": {
    "name": "ipython",
    "version": 3
   },
   "file_extension": ".py",
   "mimetype": "text/x-python",
   "name": "python",
   "nbconvert_exporter": "python",
   "pygments_lexer": "ipython3",
   "version": "3.10.9"
  }
 },
 "nbformat": 4,
 "nbformat_minor": 5
}
